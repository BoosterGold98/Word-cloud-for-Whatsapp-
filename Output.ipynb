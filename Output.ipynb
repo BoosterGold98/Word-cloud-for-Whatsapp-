{
  "nbformat": 4,
  "nbformat_minor": 0,
  "metadata": {
    "colab": {
      "name": "Output.ipynb",
      "provenance": [],
      "collapsed_sections": [],
      "authorship_tag": "ABX9TyOXYiux4Y+fS1fKaXFvJ1oE",
      "include_colab_link": true
    },
    "kernelspec": {
      "name": "python3",
      "display_name": "Python 3"
    }
  },
  "cells": [
    {
      "cell_type": "markdown",
      "metadata": {
        "id": "view-in-github",
        "colab_type": "text"
      },
      "source": [
        "<a href=\"https://colab.research.google.com/github/BoosterGold98/Word-cloud-for-Whatsapp-/blob/master/Output.ipynb\" target=\"_parent\"><img src=\"https://colab.research.google.com/assets/colab-badge.svg\" alt=\"Open In Colab\"/></a>"
      ]
    },
    {
      "cell_type": "code",
      "metadata": {
        "id": "5Rx_syjLGuYb",
        "colab_type": "code",
        "colab": {}
      },
      "source": [
        "from os import path, getcwd\n",
        "from PIL import Image\n",
        "import numpy as np\n",
        "import random\n",
        "import matplotlib.pyplot as plt\n",
        "from wordcloud import WordCloud"
      ],
      "execution_count": 0,
      "outputs": []
    },
    {
      "cell_type": "markdown",
      "metadata": {
        "id": "Bu9VlJwsG1qs",
        "colab_type": "text"
      },
      "source": [
        "OS is imported to get path as well as to get current working directory. Image is imported to load images while random and matplotlib is imported to help plotting the wordcloud."
      ]
    },
    {
      "cell_type": "code",
      "metadata": {
        "id": "8lZLpFLRHKuA",
        "colab_type": "code",
        "colab": {}
      },
      "source": [
        "f = open(\"filteredtext.txt\", \"r\") # Loading the cleaned up text for word cloud\n",
        "filteredtext = f.read()\n",
        "text = filteredtext"
      ],
      "execution_count": 0,
      "outputs": []
    },
    {
      "cell_type": "code",
      "metadata": {
        "id": "n_1MwyZpHVFY",
        "colab_type": "code",
        "colab": {}
      },
      "source": [
        "def grey_color_func(word, font_size, position, orientation, random_state=None,**kwargs):   # These are color functions which will decide the colour of the words. \n",
        "    return \"hsl(0, 0%%, %d%%)\" % random.randint(60, 100)\n",
        "    \n",
        "def color_func(word, font_size, position, orientation, random_state=None,**kwargs):     # **kwargs is key arguements which is used to take in variable arguments      \n",
        "    rand = lambda: random.randint(100, 255)\n",
        "    return '#%02X%02X%02X' % (rand(), rand(), rand())"
      ],
      "execution_count": 0,
      "outputs": []
    },
    {
      "cell_type": "code",
      "metadata": {
        "id": "icpVu6aUH1ir",
        "colab_type": "code",
        "colab": {}
      },
      "source": [
        "d = getcwd()   # To get current working directory\n",
        "mask = np.array(Image.open(path.join(d, \"cloud.png\"))) # mask of the word cloud\n",
        "wc = WordCloud(background_color=\"black\", max_words=200, mask=mask,\n",
        "               max_font_size=90, random_state=42, collocations=False)\n",
        "wc.generate(text) # Generation of the word cloud"
      ],
      "execution_count": 0,
      "outputs": []
    },
    {
      "cell_type": "markdown",
      "metadata": {
        "id": "1M2MONJXIIGG",
        "colab_type": "text"
      },
      "source": [
        "A word cloud can be made using any shape and this shape is decided by a mask. The mask used here is an image of a cloud shape. The background color, max words, max font size in the cloud can all be customized. Here, **collocations** is set to be False which will cause less repetitions of words in the cloud as well as less occurance of grouped words such as 'of course'. "
      ]
    },
    {
      "cell_type": "code",
      "metadata": {
        "id": "2BH3_qjeI-9B",
        "colab_type": "code",
        "colab": {}
      },
      "source": [
        "plt.imshow(wc.recolor(color_func=color_func, random_state=3), interpolation=\"bilinear\")        # This for words with bright colors \n",
        "#plt.imshow(wc.recolor(color_func=grey_color_func, random_state=3), interpolation=\"bilinear\")  # This is for words with variations of gray\n",
        "plt.axis(\"off\")\n",
        "#plt.imshow(wc, interpolation=\"bilinear\")      # This is for default word cloud\n",
        "_=plt.show()\n"
      ],
      "execution_count": 0,
      "outputs": []
    }
  ]
}